{
 "cells": [
  {
   "cell_type": "code",
   "execution_count": 1,
   "metadata": {},
   "outputs": [],
   "source": [
    "import numpy as np\n",
    "import pandas as pd\n",
    "import json\n",
    "from pandas import json_normalize"
   ]
  },
  {
   "cell_type": "code",
   "execution_count": 2,
   "metadata": {},
   "outputs": [],
   "source": [
    "with open ('/workspaces/My-way-in-data-analysis/datos/artists.json') as file:\n",
    "    artist_dict=json.load(file)"
   ]
  },
  {
   "cell_type": "code",
   "execution_count": 3,
   "metadata": {},
   "outputs": [
    {
     "name": "stdout",
     "output_type": "stream",
     "text": [
      "                 name        years                         genre nationality  \\\n",
      "0   Amedeo Modigliani  1884 - 1920                 Expressionism     Italian   \n",
      "1  Vasiliy Kandinskiy  1866 - 1944  Expressionism,Abstractionism     Russian   \n",
      "2        Diego Rivera  1886 - 1957       Social Realism,Muralism     Mexican   \n",
      "3        Claude Monet  1840 - 1926                 Impressionism      French   \n",
      "4       Rene Magritte  1898 - 1967      Surrealism,Impressionism     Belgian   \n",
      "\n",
      "                                                 bio  \n",
      "0  [{'full name': 'Amedeo Clemente Modigliani', '...  \n",
      "1  [{'full name': 'Wassily Wassilyevich Kandinsky...  \n",
      "2  [{'full name': 'Diego María de la Concepción J...  \n",
      "3  [{'full name': 'Oscar-Claude Monet', 'pronunci...  \n",
      "4  [{'full name': 'René François Ghislain Magritt...  \n"
     ]
    }
   ],
   "source": [
    "df_artistas1=json_normalize(artist_dict)\n",
    "print(df_artistas1)"
   ]
  },
  {
   "cell_type": "code",
   "execution_count": 4,
   "metadata": {},
   "outputs": [],
   "source": [
    "bibliografia=json_normalize(artist_dict,\n",
    "                            record_path='bio',\n",
    "                            meta=['name'])"
   ]
  },
  {
   "cell_type": "code",
   "execution_count": 5,
   "metadata": {},
   "outputs": [
    {
     "name": "stdout",
     "output_type": "stream",
     "text": [
      "                                           full name  \\\n",
      "0                         Amedeo Clemente Modigliani   \n",
      "1                     Wassily Wassilyevich Kandinsky   \n",
      "2  Diego María de la Concepción Juan Nepomuceno E...   \n",
      "3                                 Oscar-Claude Monet   \n",
      "4                    René François Ghislain Magritte   \n",
      "\n",
      "                                       pronunciation  \\\n",
      "0                             [ameˈdɛːo modiʎˈʎaːni]   \n",
      "1  Васи́лий Васи́льевич Канди́нский, tr. Vasíliy ...   \n",
      "2                                   [ˈdjeɣo riˈβeɾa]   \n",
      "3                                        [klod mɔnɛ]   \n",
      "4                        [ʁəne fʁɑ̃swa ɡilɛ̃ maɡʁit]   \n",
      "\n",
      "                                           life span  \\\n",
      "0                     12 July 1884 – 24 January 1920   \n",
      "1  16 December [O.S. 4 December] 1866 – 13 Decemb...   \n",
      "2               December 8, 1886 – November 24, 1957   \n",
      "3                 14 November 1840 – 5 December 1926   \n",
      "4                  21 November 1898 – 15 August 1967   \n",
      "\n",
      "                                                info  \\\n",
      "0  was an Italian Jewish painter and sculptor who...   \n",
      "1            was a Russian painter and art theorist.   \n",
      "2  was a prominent Mexican painter. His large fre...   \n",
      "3  was a French painter, a founder of French Impr...   \n",
      "4  Was a Belgian Surrealist artist. He became wel...   \n",
      "\n",
      "                                        wikipedia  paintings  \\\n",
      "0  http://en.wikipedia.org/wiki/Amedeo_Modigliani        193   \n",
      "1  http://en.wikipedia.org/wiki/Wassily_Kandinsky         88   \n",
      "2       http://en.wikipedia.org/wiki/Diego_Rivera         70   \n",
      "3       http://en.wikipedia.org/wiki/Claude_Monet         73   \n",
      "4      http://en.wikipedia.org/wiki/René_Magritte        194   \n",
      "\n",
      "                 name  \n",
      "0   Amedeo Modigliani  \n",
      "1  Vasiliy Kandinskiy  \n",
      "2        Diego Rivera  \n",
      "3        Claude Monet  \n",
      "4       Rene Magritte  \n"
     ]
    }
   ],
   "source": [
    "print(bibliografia)"
   ]
  },
  {
   "cell_type": "code",
   "execution_count": 28,
   "metadata": {},
   "outputs": [
    {
     "name": "stdout",
     "output_type": "stream",
     "text": [
      "<class 'pandas.core.frame.DataFrame'>\n",
      "RangeIndex: 5 entries, 0 to 4\n",
      "Data columns (total 7 columns):\n",
      " #   Column         Non-Null Count  Dtype \n",
      "---  ------         --------------  ----- \n",
      " 0   full name      5 non-null      object\n",
      " 1   pronunciation  5 non-null      object\n",
      " 2   life span      5 non-null      object\n",
      " 3   info           5 non-null      object\n",
      " 4   wikipedia      5 non-null      object\n",
      " 5   paintings      5 non-null      int64 \n",
      " 6   name           5 non-null      object\n",
      "dtypes: int64(1), object(6)\n",
      "memory usage: 408.0+ bytes\n"
     ]
    }
   ],
   "source": [
    "bibliografia.info()"
   ]
  },
  {
   "cell_type": "code",
   "execution_count": null,
   "metadata": {},
   "outputs": [],
   "source": []
  }
 ],
 "metadata": {
  "kernelspec": {
   "display_name": "Python 3",
   "language": "python",
   "name": "python3"
  },
  "language_info": {
   "codemirror_mode": {
    "name": "ipython",
    "version": 3
   },
   "file_extension": ".py",
   "mimetype": "text/x-python",
   "name": "python",
   "nbconvert_exporter": "python",
   "pygments_lexer": "ipython3",
   "version": "3.10.13"
  }
 },
 "nbformat": 4,
 "nbformat_minor": 2
}
